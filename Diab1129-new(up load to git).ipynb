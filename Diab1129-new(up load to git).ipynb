{
 "cells": [
  {
   "cell_type": "markdown",
   "metadata": {},
   "source": [
    "# set up "
   ]
  },
  {
   "cell_type": "code",
   "execution_count": 2,
   "metadata": {},
   "outputs": [
    {
     "name": "stdout",
     "output_type": "stream",
     "text": [
      "Requirement already satisfied: msgpack in /home/ec2-user/anaconda3/envs/python3/lib/python3.6/site-packages (0.5.6)\n",
      "\u001b[33mYou are using pip version 10.0.1, however version 18.1 is available.\n",
      "You should consider upgrading via the 'pip install --upgrade pip' command.\u001b[0m\n",
      "Collecting pip\n",
      "\u001b[?25l  Downloading https://files.pythonhosted.org/packages/c2/d7/90f34cb0d83a6c5631cf71dfe64cc1054598c843a92b400e55675cc2ac37/pip-18.1-py2.py3-none-any.whl (1.3MB)\n",
      "\u001b[K    100% |████████████████████████████████| 1.3MB 23.3MB/s ta 0:00:01\n",
      "\u001b[?25hInstalling collected packages: pip\n",
      "  Found existing installation: pip 10.0.1\n",
      "    Uninstalling pip-10.0.1:\n",
      "      Successfully uninstalled pip-10.0.1\n",
      "Successfully installed pip-18.1\n"
     ]
    }
   ],
   "source": [
    "!pip install msgpack\n",
    "!pip install --upgrade pip"
   ]
  },
  {
   "cell_type": "code",
   "execution_count": 3,
   "metadata": {},
   "outputs": [
    {
     "name": "stdout",
     "output_type": "stream",
     "text": [
      "cffi 1.11.5\n"
     ]
    },
    {
     "name": "stderr",
     "output_type": "stream",
     "text": [
      "https://nvidia.github.io/libnvidia-container/amzn1/x86_64/repodata/repomd.xml: [Errno -1] repomd.xml signature could not be verified for libnvidia-container\n",
      "Trying other mirror.\n",
      "https://nvidia.github.io/nvidia-container-runtime/amzn1/x86_64/repodata/repomd.xml: [Errno -1] repomd.xml signature could not be verified for nvidia-container-runtime\n",
      "Trying other mirror.\n",
      "https://nvidia.github.io/nvidia-docker/amzn1/x86_64/repodata/repomd.xml: [Errno -1] repomd.xml signature could not be verified for nvidia-docker\n",
      "Trying other mirror.\n",
      "Warning: RPMDB altered outside of yum.\n"
     ]
    }
   ],
   "source": [
    "%%bash\n",
    "CFFI_VERSION=$(pip list 2>/dev/null | grep cffi )\n",
    "echo $CFFI_VERSION\n",
    "if [[ \"$CFFI_VERSION\" == \"cffi (1.10.0)\" ]]\n",
    "then \n",
    "   pip uninstall --yes cffi\n",
    "fi\n",
    "yum_log=$(sudo yum install -y libffi-devel openssl-devel)\n",
    "pip_log=$(pip install --upgrade snowflake-connector-python)  \n",
    "if [[ \"$CFFI_VERSION\" == \"cffi (1.10.0)\" ]]\n",
    "then \n",
    "   echo \"configuration has changed; restart notebook\"\n",
    "fi"
   ]
  },
  {
   "cell_type": "code",
   "execution_count": 4,
   "metadata": {},
   "outputs": [
    {
     "name": "stdout",
     "output_type": "stream",
     "text": [
      "3.6.4\n"
     ]
    }
   ],
   "source": [
    "import snowflake.connector\n",
    "# Gets the version\n",
    "ctx = snowflake.connector.connect(\n",
    "user='XXX',\n",
    "password='XXX',\n",
    "account='XXX',\n",
    "role='XXX'\n",
    ")\n",
    "cs = ctx.cursor()\n",
    "try:\n",
    "    cs.execute(\"SELECT current_version()\")\n",
    "    one = cs.fetchone()\n",
    "    print(one[0])\n",
    "    cs.execute(\"USE warehouse DS_XLARGE\")\n",
    "\n",
    "finally:\n",
    "    cs.close()"
   ]
  },
  {
   "cell_type": "markdown",
   "metadata": {},
   "source": [
    "# import packages"
   ]
  },
  {
   "cell_type": "code",
   "execution_count": 5,
   "metadata": {},
   "outputs": [],
   "source": [
    "import pandas as pd\n",
    "import numpy as np\n",
    "import scipy as sp\n",
    "\n",
    "from sklearn import metrics\n",
    "from sklearn.cluster import AgglomerativeClustering"
   ]
  },
  {
   "cell_type": "markdown",
   "metadata": {},
   "source": [
    "# Clustering "
   ]
  },
  {
   "cell_type": "markdown",
   "metadata": {},
   "source": [
    "## data prep "
   ]
  },
  {
   "cell_type": "markdown",
   "metadata": {},
   "source": [
    "### read in data: diabetes clickers device IDs and associated features in long format"
   ]
  },
  {
   "cell_type": "code",
   "execution_count": 6,
   "metadata": {},
   "outputs": [],
   "source": [
    "sql0='''\n",
    "select * from  ds.diabetes1203.diab_seg_temp_new_id; \n",
    "'''\n"
   ]
  },
  {
   "cell_type": "code",
   "execution_count": 7,
   "metadata": {},
   "outputs": [],
   "source": [
    "cur = ctx.cursor()\n",
    "try:\n",
    "    results0 = cur.execute(sql0).fetchall()\n",
    "finally:\n",
    "    cur.close()"
   ]
  },
  {
   "cell_type": "code",
   "execution_count": 8,
   "metadata": {},
   "outputs": [],
   "source": [
    "features_long = pd.DataFrame(np.array(results0), columns = ['DEVICE_ID_HASHED', 'SEGMENT_ID_NEW'])"
   ]
  },
  {
   "cell_type": "code",
   "execution_count": 9,
   "metadata": {},
   "outputs": [
    {
     "data": {
      "text/plain": [
       "(2853523, 2)"
      ]
     },
     "execution_count": 9,
     "metadata": {},
     "output_type": "execute_result"
    }
   ],
   "source": [
    "features_long.shape"
   ]
  },
  {
   "cell_type": "markdown",
   "metadata": {},
   "source": [
    "### reshape data from long to wide "
   ]
  },
  {
   "cell_type": "code",
   "execution_count": 10,
   "metadata": {},
   "outputs": [],
   "source": [
    "features_pivot=features_long.pivot_table(index=[\"DEVICE_ID_HASHED\"], columns=\"SEGMENT_ID_NEW\", aggfunc=lambda x: 1, fill_value=0)"
   ]
  },
  {
   "cell_type": "code",
   "execution_count": 11,
   "metadata": {},
   "outputs": [
    {
     "data": {
      "text/plain": [
       "(60033, 359)"
      ]
     },
     "execution_count": 11,
     "metadata": {},
     "output_type": "execute_result"
    }
   ],
   "source": [
    "features_pivot.shape"
   ]
  },
  {
   "cell_type": "code",
   "execution_count": 12,
   "metadata": {},
   "outputs": [
    {
     "data": {
      "text/html": [
       "<div>\n",
       "<style scoped>\n",
       "    .dataframe tbody tr th:only-of-type {\n",
       "        vertical-align: middle;\n",
       "    }\n",
       "\n",
       "    .dataframe tbody tr th {\n",
       "        vertical-align: top;\n",
       "    }\n",
       "\n",
       "    .dataframe thead th {\n",
       "        text-align: right;\n",
       "    }\n",
       "</style>\n",
       "<table border=\"1\" class=\"dataframe\">\n",
       "  <thead>\n",
       "    <tr style=\"text-align: right;\">\n",
       "      <th>SEGMENT_ID_NEW</th>\n",
       "      <th>1</th>\n",
       "      <th>10</th>\n",
       "      <th>100</th>\n",
       "      <th>101</th>\n",
       "      <th>1016</th>\n",
       "      <th>1017</th>\n",
       "      <th>1018</th>\n",
       "      <th>1019</th>\n",
       "      <th>102</th>\n",
       "      <th>1020</th>\n",
       "      <th>...</th>\n",
       "      <th>90</th>\n",
       "      <th>91</th>\n",
       "      <th>92</th>\n",
       "      <th>93</th>\n",
       "      <th>94</th>\n",
       "      <th>95</th>\n",
       "      <th>96</th>\n",
       "      <th>97</th>\n",
       "      <th>98</th>\n",
       "      <th>99</th>\n",
       "    </tr>\n",
       "    <tr>\n",
       "      <th>DEVICE_ID_HASHED</th>\n",
       "      <th></th>\n",
       "      <th></th>\n",
       "      <th></th>\n",
       "      <th></th>\n",
       "      <th></th>\n",
       "      <th></th>\n",
       "      <th></th>\n",
       "      <th></th>\n",
       "      <th></th>\n",
       "      <th></th>\n",
       "      <th></th>\n",
       "      <th></th>\n",
       "      <th></th>\n",
       "      <th></th>\n",
       "      <th></th>\n",
       "      <th></th>\n",
       "      <th></th>\n",
       "      <th></th>\n",
       "      <th></th>\n",
       "      <th></th>\n",
       "      <th></th>\n",
       "    </tr>\n",
       "  </thead>\n",
       "  <tbody>\n",
       "    <tr>\n",
       "      <th>00001971424878D0CC19699ABC274C1E847CB4C5</th>\n",
       "      <td>0</td>\n",
       "      <td>0</td>\n",
       "      <td>1</td>\n",
       "      <td>0</td>\n",
       "      <td>0</td>\n",
       "      <td>0</td>\n",
       "      <td>0</td>\n",
       "      <td>0</td>\n",
       "      <td>1</td>\n",
       "      <td>0</td>\n",
       "      <td>...</td>\n",
       "      <td>0</td>\n",
       "      <td>0</td>\n",
       "      <td>0</td>\n",
       "      <td>1</td>\n",
       "      <td>0</td>\n",
       "      <td>0</td>\n",
       "      <td>0</td>\n",
       "      <td>0</td>\n",
       "      <td>0</td>\n",
       "      <td>0</td>\n",
       "    </tr>\n",
       "    <tr>\n",
       "      <th>0000EDF2D3E8596891941567E396B915A23F78D0</th>\n",
       "      <td>0</td>\n",
       "      <td>0</td>\n",
       "      <td>0</td>\n",
       "      <td>0</td>\n",
       "      <td>1</td>\n",
       "      <td>0</td>\n",
       "      <td>0</td>\n",
       "      <td>0</td>\n",
       "      <td>0</td>\n",
       "      <td>0</td>\n",
       "      <td>...</td>\n",
       "      <td>0</td>\n",
       "      <td>0</td>\n",
       "      <td>0</td>\n",
       "      <td>0</td>\n",
       "      <td>0</td>\n",
       "      <td>0</td>\n",
       "      <td>0</td>\n",
       "      <td>0</td>\n",
       "      <td>0</td>\n",
       "      <td>0</td>\n",
       "    </tr>\n",
       "    <tr>\n",
       "      <th>00014A2530170777E36C476C3BF53D9D232F81DF</th>\n",
       "      <td>0</td>\n",
       "      <td>0</td>\n",
       "      <td>0</td>\n",
       "      <td>0</td>\n",
       "      <td>0</td>\n",
       "      <td>0</td>\n",
       "      <td>0</td>\n",
       "      <td>0</td>\n",
       "      <td>1</td>\n",
       "      <td>0</td>\n",
       "      <td>...</td>\n",
       "      <td>0</td>\n",
       "      <td>0</td>\n",
       "      <td>0</td>\n",
       "      <td>0</td>\n",
       "      <td>0</td>\n",
       "      <td>0</td>\n",
       "      <td>0</td>\n",
       "      <td>1</td>\n",
       "      <td>0</td>\n",
       "      <td>0</td>\n",
       "    </tr>\n",
       "    <tr>\n",
       "      <th>00036D75F6224F3EDDE72B5A210AFC039EA144D3</th>\n",
       "      <td>0</td>\n",
       "      <td>0</td>\n",
       "      <td>0</td>\n",
       "      <td>1</td>\n",
       "      <td>0</td>\n",
       "      <td>1</td>\n",
       "      <td>0</td>\n",
       "      <td>0</td>\n",
       "      <td>1</td>\n",
       "      <td>0</td>\n",
       "      <td>...</td>\n",
       "      <td>0</td>\n",
       "      <td>0</td>\n",
       "      <td>0</td>\n",
       "      <td>1</td>\n",
       "      <td>0</td>\n",
       "      <td>0</td>\n",
       "      <td>0</td>\n",
       "      <td>1</td>\n",
       "      <td>0</td>\n",
       "      <td>0</td>\n",
       "    </tr>\n",
       "    <tr>\n",
       "      <th>00041FE78147183DF84FF8BFD70448456CCD5599</th>\n",
       "      <td>0</td>\n",
       "      <td>1</td>\n",
       "      <td>0</td>\n",
       "      <td>1</td>\n",
       "      <td>0</td>\n",
       "      <td>0</td>\n",
       "      <td>0</td>\n",
       "      <td>0</td>\n",
       "      <td>1</td>\n",
       "      <td>0</td>\n",
       "      <td>...</td>\n",
       "      <td>0</td>\n",
       "      <td>0</td>\n",
       "      <td>0</td>\n",
       "      <td>1</td>\n",
       "      <td>0</td>\n",
       "      <td>0</td>\n",
       "      <td>1</td>\n",
       "      <td>0</td>\n",
       "      <td>0</td>\n",
       "      <td>0</td>\n",
       "    </tr>\n",
       "  </tbody>\n",
       "</table>\n",
       "<p>5 rows × 359 columns</p>\n",
       "</div>"
      ],
      "text/plain": [
       "SEGMENT_ID_NEW                            1  10  100  101  1016  1017  1018  \\\n",
       "DEVICE_ID_HASHED                                                              \n",
       "00001971424878D0CC19699ABC274C1E847CB4C5  0   0    1    0     0     0     0   \n",
       "0000EDF2D3E8596891941567E396B915A23F78D0  0   0    0    0     1     0     0   \n",
       "00014A2530170777E36C476C3BF53D9D232F81DF  0   0    0    0     0     0     0   \n",
       "00036D75F6224F3EDDE72B5A210AFC039EA144D3  0   0    0    1     0     1     0   \n",
       "00041FE78147183DF84FF8BFD70448456CCD5599  0   1    0    1     0     0     0   \n",
       "\n",
       "SEGMENT_ID_NEW                            1019  102  1020 ...  90  91  92  93  \\\n",
       "DEVICE_ID_HASHED                                          ...                   \n",
       "00001971424878D0CC19699ABC274C1E847CB4C5     0    1     0 ...   0   0   0   1   \n",
       "0000EDF2D3E8596891941567E396B915A23F78D0     0    0     0 ...   0   0   0   0   \n",
       "00014A2530170777E36C476C3BF53D9D232F81DF     0    1     0 ...   0   0   0   0   \n",
       "00036D75F6224F3EDDE72B5A210AFC039EA144D3     0    1     0 ...   0   0   0   1   \n",
       "00041FE78147183DF84FF8BFD70448456CCD5599     0    1     0 ...   0   0   0   1   \n",
       "\n",
       "SEGMENT_ID_NEW                            94  95  96  97  98  99  \n",
       "DEVICE_ID_HASHED                                                  \n",
       "00001971424878D0CC19699ABC274C1E847CB4C5   0   0   0   0   0   0  \n",
       "0000EDF2D3E8596891941567E396B915A23F78D0   0   0   0   0   0   0  \n",
       "00014A2530170777E36C476C3BF53D9D232F81DF   0   0   0   1   0   0  \n",
       "00036D75F6224F3EDDE72B5A210AFC039EA144D3   0   0   0   1   0   0  \n",
       "00041FE78147183DF84FF8BFD70448456CCD5599   0   0   1   0   0   0  \n",
       "\n",
       "[5 rows x 359 columns]"
      ]
     },
     "execution_count": 12,
     "metadata": {},
     "output_type": "execute_result"
    }
   ],
   "source": [
    "features_pivot.head()"
   ]
  },
  {
   "cell_type": "markdown",
   "metadata": {},
   "source": [
    "### Calculate pairwise distances with the dice dissimilarity.\n",
    "http://scikit-learn.org/stable/modules/generated/sklearn.metrics.pairwise.pairwise_distances.html"
   ]
  },
  {
   "cell_type": "code",
   "execution_count": 13,
   "metadata": {},
   "outputs": [
    {
     "name": "stderr",
     "output_type": "stream",
     "text": [
      "/home/ec2-user/anaconda3/envs/python3/lib/python3.6/site-packages/sklearn/utils/validation.py:475: DataConversionWarning: Data with input dtype int64 was converted to bool by check_pairwise_arrays.\n",
      "  warnings.warn(msg, DataConversionWarning)\n"
     ]
    }
   ],
   "source": [
    "m = metrics.pairwise.pairwise_distances(features_pivot, features_pivot, metric='dice') \n"
   ]
  },
  {
   "cell_type": "markdown",
   "metadata": {},
   "source": [
    "### remove missing values in dissimilarity matrix \n",
    "missing values in dissimilarity matric came from false false values in both entries. \n",
    "They create negative infinite values in dissimilarity matrix.\n",
    "Though nothing is deleted in this dataset."
   ]
  },
  {
   "cell_type": "code",
   "execution_count": 14,
   "metadata": {},
   "outputs": [],
   "source": [
    "m=pd.DataFrame(m)\n",
    "keep=m.index[pd.isnull(m).any(axis=0)==False]\n",
    "m1=m.iloc[keep,keep]"
   ]
  },
  {
   "cell_type": "code",
   "execution_count": 15,
   "metadata": {},
   "outputs": [
    {
     "data": {
      "text/plain": [
       "(60033, 60033)"
      ]
     },
     "execution_count": 15,
     "metadata": {},
     "output_type": "execute_result"
    }
   ],
   "source": [
    "m1.shape"
   ]
  },
  {
   "cell_type": "markdown",
   "metadata": {},
   "source": [
    "### Hierarchical Clustering \n",
    "Perform agglomerative clustering.\n",
    "The affinity is precomputed (since the distances are precalculated).\n",
    "'Aaverage' linkage is used. Other linkages could also be used except  'ward'."
   ]
  },
  {
   "cell_type": "code",
   "execution_count": 16,
   "metadata": {},
   "outputs": [],
   "source": [
    "agg = AgglomerativeClustering(n_clusters=700, affinity='precomputed',\n",
    "                              linkage='average')\n",
    "\n",
    "# Use the distance matrix directly.\n",
    "cluster_agg = agg.fit_predict(m1)"
   ]
  },
  {
   "cell_type": "markdown",
   "metadata": {},
   "source": [
    "### Compute Silhouette score \n",
    "resource on standards of evaluating silhouette score: https://www.stat.berkeley.edu/~spector/s133/Clus.html"
   ]
  },
  {
   "cell_type": "code",
   "execution_count": 17,
   "metadata": {},
   "outputs": [
    {
     "data": {
      "text/plain": [
       "0.7370919271556617"
      ]
     },
     "execution_count": 17,
     "metadata": {},
     "output_type": "execute_result"
    }
   ],
   "source": [
    "metrics.silhouette_score(m1, cluster_agg, metric=\"precomputed\")"
   ]
  },
  {
   "cell_type": "markdown",
   "metadata": {},
   "source": [
    "## Add Predicted Clusters to data in wide format "
   ]
  },
  {
   "cell_type": "code",
   "execution_count": 18,
   "metadata": {},
   "outputs": [
    {
     "data": {
      "text/html": [
       "<div>\n",
       "<style scoped>\n",
       "    .dataframe tbody tr th:only-of-type {\n",
       "        vertical-align: middle;\n",
       "    }\n",
       "\n",
       "    .dataframe tbody tr th {\n",
       "        vertical-align: top;\n",
       "    }\n",
       "\n",
       "    .dataframe thead th {\n",
       "        text-align: right;\n",
       "    }\n",
       "</style>\n",
       "<table border=\"1\" class=\"dataframe\">\n",
       "  <thead>\n",
       "    <tr style=\"text-align: right;\">\n",
       "      <th>SEGMENT_ID_NEW</th>\n",
       "      <th>1</th>\n",
       "      <th>10</th>\n",
       "      <th>100</th>\n",
       "      <th>101</th>\n",
       "      <th>1016</th>\n",
       "      <th>1017</th>\n",
       "      <th>1018</th>\n",
       "      <th>1019</th>\n",
       "      <th>102</th>\n",
       "      <th>1020</th>\n",
       "      <th>...</th>\n",
       "      <th>91</th>\n",
       "      <th>92</th>\n",
       "      <th>93</th>\n",
       "      <th>94</th>\n",
       "      <th>95</th>\n",
       "      <th>96</th>\n",
       "      <th>97</th>\n",
       "      <th>98</th>\n",
       "      <th>99</th>\n",
       "      <th>Cluster_ID</th>\n",
       "    </tr>\n",
       "    <tr>\n",
       "      <th>DEVICE_ID_HASHED</th>\n",
       "      <th></th>\n",
       "      <th></th>\n",
       "      <th></th>\n",
       "      <th></th>\n",
       "      <th></th>\n",
       "      <th></th>\n",
       "      <th></th>\n",
       "      <th></th>\n",
       "      <th></th>\n",
       "      <th></th>\n",
       "      <th></th>\n",
       "      <th></th>\n",
       "      <th></th>\n",
       "      <th></th>\n",
       "      <th></th>\n",
       "      <th></th>\n",
       "      <th></th>\n",
       "      <th></th>\n",
       "      <th></th>\n",
       "      <th></th>\n",
       "      <th></th>\n",
       "    </tr>\n",
       "  </thead>\n",
       "  <tbody>\n",
       "    <tr>\n",
       "      <th>00001971424878D0CC19699ABC274C1E847CB4C5</th>\n",
       "      <td>0</td>\n",
       "      <td>0</td>\n",
       "      <td>1</td>\n",
       "      <td>0</td>\n",
       "      <td>0</td>\n",
       "      <td>0</td>\n",
       "      <td>0</td>\n",
       "      <td>0</td>\n",
       "      <td>1</td>\n",
       "      <td>0</td>\n",
       "      <td>...</td>\n",
       "      <td>0</td>\n",
       "      <td>0</td>\n",
       "      <td>1</td>\n",
       "      <td>0</td>\n",
       "      <td>0</td>\n",
       "      <td>0</td>\n",
       "      <td>0</td>\n",
       "      <td>0</td>\n",
       "      <td>0</td>\n",
       "      <td>179</td>\n",
       "    </tr>\n",
       "    <tr>\n",
       "      <th>0000EDF2D3E8596891941567E396B915A23F78D0</th>\n",
       "      <td>0</td>\n",
       "      <td>0</td>\n",
       "      <td>0</td>\n",
       "      <td>0</td>\n",
       "      <td>1</td>\n",
       "      <td>0</td>\n",
       "      <td>0</td>\n",
       "      <td>0</td>\n",
       "      <td>0</td>\n",
       "      <td>0</td>\n",
       "      <td>...</td>\n",
       "      <td>0</td>\n",
       "      <td>0</td>\n",
       "      <td>0</td>\n",
       "      <td>0</td>\n",
       "      <td>0</td>\n",
       "      <td>0</td>\n",
       "      <td>0</td>\n",
       "      <td>0</td>\n",
       "      <td>0</td>\n",
       "      <td>39</td>\n",
       "    </tr>\n",
       "    <tr>\n",
       "      <th>00014A2530170777E36C476C3BF53D9D232F81DF</th>\n",
       "      <td>0</td>\n",
       "      <td>0</td>\n",
       "      <td>0</td>\n",
       "      <td>0</td>\n",
       "      <td>0</td>\n",
       "      <td>0</td>\n",
       "      <td>0</td>\n",
       "      <td>0</td>\n",
       "      <td>1</td>\n",
       "      <td>0</td>\n",
       "      <td>...</td>\n",
       "      <td>0</td>\n",
       "      <td>0</td>\n",
       "      <td>0</td>\n",
       "      <td>0</td>\n",
       "      <td>0</td>\n",
       "      <td>0</td>\n",
       "      <td>1</td>\n",
       "      <td>0</td>\n",
       "      <td>0</td>\n",
       "      <td>171</td>\n",
       "    </tr>\n",
       "  </tbody>\n",
       "</table>\n",
       "<p>3 rows × 360 columns</p>\n",
       "</div>"
      ],
      "text/plain": [
       "SEGMENT_ID_NEW                            1  10  100  101  1016  1017  1018  \\\n",
       "DEVICE_ID_HASHED                                                              \n",
       "00001971424878D0CC19699ABC274C1E847CB4C5  0   0    1    0     0     0     0   \n",
       "0000EDF2D3E8596891941567E396B915A23F78D0  0   0    0    0     1     0     0   \n",
       "00014A2530170777E36C476C3BF53D9D232F81DF  0   0    0    0     0     0     0   \n",
       "\n",
       "SEGMENT_ID_NEW                            1019  102  1020     ...      91  92  \\\n",
       "DEVICE_ID_HASHED                                              ...               \n",
       "00001971424878D0CC19699ABC274C1E847CB4C5     0    1     0     ...       0   0   \n",
       "0000EDF2D3E8596891941567E396B915A23F78D0     0    0     0     ...       0   0   \n",
       "00014A2530170777E36C476C3BF53D9D232F81DF     0    1     0     ...       0   0   \n",
       "\n",
       "SEGMENT_ID_NEW                            93  94  95  96  97  98  99  \\\n",
       "DEVICE_ID_HASHED                                                       \n",
       "00001971424878D0CC19699ABC274C1E847CB4C5   1   0   0   0   0   0   0   \n",
       "0000EDF2D3E8596891941567E396B915A23F78D0   0   0   0   0   0   0   0   \n",
       "00014A2530170777E36C476C3BF53D9D232F81DF   0   0   0   0   1   0   0   \n",
       "\n",
       "SEGMENT_ID_NEW                            Cluster_ID  \n",
       "DEVICE_ID_HASHED                                      \n",
       "00001971424878D0CC19699ABC274C1E847CB4C5         179  \n",
       "0000EDF2D3E8596891941567E396B915A23F78D0          39  \n",
       "00014A2530170777E36C476C3BF53D9D232F81DF         171  \n",
       "\n",
       "[3 rows x 360 columns]"
      ]
     },
     "execution_count": 18,
     "metadata": {},
     "output_type": "execute_result"
    }
   ],
   "source": [
    "features_pivot['Cluster_ID']=cluster_agg\n",
    "features_pivot.head(3)"
   ]
  },
  {
   "cell_type": "markdown",
   "metadata": {},
   "source": [
    "## format data to feed into Tableau "
   ]
  },
  {
   "cell_type": "markdown",
   "metadata": {},
   "source": [
    "## subset above table and create table with only deviec IDs and cluster IDs"
   ]
  },
  {
   "cell_type": "code",
   "execution_count": 19,
   "metadata": {},
   "outputs": [
    {
     "data": {
      "text/html": [
       "<div>\n",
       "<style scoped>\n",
       "    .dataframe tbody tr th:only-of-type {\n",
       "        vertical-align: middle;\n",
       "    }\n",
       "\n",
       "    .dataframe tbody tr th {\n",
       "        vertical-align: top;\n",
       "    }\n",
       "\n",
       "    .dataframe thead th {\n",
       "        text-align: right;\n",
       "    }\n",
       "</style>\n",
       "<table border=\"1\" class=\"dataframe\">\n",
       "  <thead>\n",
       "    <tr style=\"text-align: right;\">\n",
       "      <th></th>\n",
       "      <th>DEVICE_ID_HASHED</th>\n",
       "      <th>Cluster_ID</th>\n",
       "    </tr>\n",
       "  </thead>\n",
       "  <tbody>\n",
       "    <tr>\n",
       "      <th>0</th>\n",
       "      <td>00001971424878D0CC19699ABC274C1E847CB4C5</td>\n",
       "      <td>179</td>\n",
       "    </tr>\n",
       "    <tr>\n",
       "      <th>1</th>\n",
       "      <td>0000EDF2D3E8596891941567E396B915A23F78D0</td>\n",
       "      <td>39</td>\n",
       "    </tr>\n",
       "    <tr>\n",
       "      <th>2</th>\n",
       "      <td>00014A2530170777E36C476C3BF53D9D232F81DF</td>\n",
       "      <td>171</td>\n",
       "    </tr>\n",
       "    <tr>\n",
       "      <th>3</th>\n",
       "      <td>00036D75F6224F3EDDE72B5A210AFC039EA144D3</td>\n",
       "      <td>492</td>\n",
       "    </tr>\n",
       "    <tr>\n",
       "      <th>4</th>\n",
       "      <td>00041FE78147183DF84FF8BFD70448456CCD5599</td>\n",
       "      <td>598</td>\n",
       "    </tr>\n",
       "  </tbody>\n",
       "</table>\n",
       "</div>"
      ],
      "text/plain": [
       "                           DEVICE_ID_HASHED Cluster_ID\n",
       "0  00001971424878D0CC19699ABC274C1E847CB4C5        179\n",
       "1  0000EDF2D3E8596891941567E396B915A23F78D0         39\n",
       "2  00014A2530170777E36C476C3BF53D9D232F81DF        171\n",
       "3  00036D75F6224F3EDDE72B5A210AFC039EA144D3        492\n",
       "4  00041FE78147183DF84FF8BFD70448456CCD5599        598"
      ]
     },
     "execution_count": 19,
     "metadata": {},
     "output_type": "execute_result"
    }
   ],
   "source": [
    "device_cluster0=pd.DataFrame([features_pivot.index, cluster_agg]).T\n",
    "device_cluster=device_cluster0.rename(index=str, columns={0: \"DEVICE_ID_HASHED\", 1: \"Cluster_ID\"})\n",
    "device_cluster.head()"
   ]
  },
  {
   "cell_type": "markdown",
   "metadata": {},
   "source": [
    "### merge above table with device ID and feature data in long format\n",
    "so that ID, features, cluster IDs are in long format "
   ]
  },
  {
   "cell_type": "code",
   "execution_count": 20,
   "metadata": {},
   "outputs": [],
   "source": [
    "device_cluster_long=device_cluster.merge(features_long, left_on='DEVICE_ID_HASHED',right_on='DEVICE_ID_HASHED')"
   ]
  },
  {
   "cell_type": "markdown",
   "metadata": {},
   "source": [
    "### merge above table with feature dictionary "
   ]
  },
  {
   "cell_type": "code",
   "execution_count": 22,
   "metadata": {},
   "outputs": [],
   "source": [
    "cur = ctx.cursor()\n",
    "try:\n",
    "    ref = cur.execute('select * from ds.public.location_seg_taxonomies ').fetchall()\n",
    "finally:\n",
    "    cur.close()"
   ]
  },
  {
   "cell_type": "code",
   "execution_count": 23,
   "metadata": {},
   "outputs": [],
   "source": [
    "ref = pd.DataFrame(np.array(ref), columns = ['CATEGORY','SEGMENT_NAME_NEW','SEGMENT_ID_NEW'])"
   ]
  },
  {
   "cell_type": "code",
   "execution_count": 24,
   "metadata": {},
   "outputs": [],
   "source": [
    "device_cluster_long_ref=device_cluster_long.merge(ref,left_on='SEGMENT_ID_NEW', right_on='SEGMENT_ID_NEW')"
   ]
  },
  {
   "cell_type": "code",
   "execution_count": 31,
   "metadata": {},
   "outputs": [
    {
     "data": {
      "text/html": [
       "<div>\n",
       "<style scoped>\n",
       "    .dataframe tbody tr th:only-of-type {\n",
       "        vertical-align: middle;\n",
       "    }\n",
       "\n",
       "    .dataframe tbody tr th {\n",
       "        vertical-align: top;\n",
       "    }\n",
       "\n",
       "    .dataframe thead th {\n",
       "        text-align: right;\n",
       "    }\n",
       "</style>\n",
       "<table border=\"1\" class=\"dataframe\">\n",
       "  <thead>\n",
       "    <tr style=\"text-align: right;\">\n",
       "      <th></th>\n",
       "      <th>DEVICE_ID_HASHED</th>\n",
       "      <th>Cluster_ID</th>\n",
       "      <th>SEGMENT_ID_NEW</th>\n",
       "      <th>CATEGORY</th>\n",
       "      <th>SEGMENT_NAME_NEW</th>\n",
       "    </tr>\n",
       "  </thead>\n",
       "  <tbody>\n",
       "    <tr>\n",
       "      <th>0</th>\n",
       "      <td>00001971424878D0CC19699ABC274C1E847CB4C5</td>\n",
       "      <td>179</td>\n",
       "      <td>290</td>\n",
       "      <td>Purchaser</td>\n",
       "      <td>Toothpaste/Toothbrushes</td>\n",
       "    </tr>\n",
       "    <tr>\n",
       "      <th>1</th>\n",
       "      <td>00041FE78147183DF84FF8BFD70448456CCD5599</td>\n",
       "      <td>598</td>\n",
       "      <td>290</td>\n",
       "      <td>Purchaser</td>\n",
       "      <td>Toothpaste/Toothbrushes</td>\n",
       "    </tr>\n",
       "    <tr>\n",
       "      <th>2</th>\n",
       "      <td>0006521B7ED4FA17F256D175837CDD6962574FDC</td>\n",
       "      <td>274</td>\n",
       "      <td>290</td>\n",
       "      <td>Purchaser</td>\n",
       "      <td>Toothpaste/Toothbrushes</td>\n",
       "    </tr>\n",
       "    <tr>\n",
       "      <th>3</th>\n",
       "      <td>000DCB16D79071E6A4C978B954AE0594C055F04A</td>\n",
       "      <td>83</td>\n",
       "      <td>290</td>\n",
       "      <td>Purchaser</td>\n",
       "      <td>Toothpaste/Toothbrushes</td>\n",
       "    </tr>\n",
       "    <tr>\n",
       "      <th>4</th>\n",
       "      <td>000F2FC01685ACE6BE109F3D898A0885ABC666FC</td>\n",
       "      <td>635</td>\n",
       "      <td>290</td>\n",
       "      <td>Purchaser</td>\n",
       "      <td>Toothpaste/Toothbrushes</td>\n",
       "    </tr>\n",
       "  </tbody>\n",
       "</table>\n",
       "</div>"
      ],
      "text/plain": [
       "                           DEVICE_ID_HASHED Cluster_ID SEGMENT_ID_NEW  \\\n",
       "0  00001971424878D0CC19699ABC274C1E847CB4C5        179            290   \n",
       "1  00041FE78147183DF84FF8BFD70448456CCD5599        598            290   \n",
       "2  0006521B7ED4FA17F256D175837CDD6962574FDC        274            290   \n",
       "3  000DCB16D79071E6A4C978B954AE0594C055F04A         83            290   \n",
       "4  000F2FC01685ACE6BE109F3D898A0885ABC666FC        635            290   \n",
       "\n",
       "    CATEGORY          SEGMENT_NAME_NEW  \n",
       "0  Purchaser   Toothpaste/Toothbrushes  \n",
       "1  Purchaser   Toothpaste/Toothbrushes  \n",
       "2  Purchaser   Toothpaste/Toothbrushes  \n",
       "3  Purchaser   Toothpaste/Toothbrushes  \n",
       "4  Purchaser   Toothpaste/Toothbrushes  "
      ]
     },
     "execution_count": 31,
     "metadata": {},
     "output_type": "execute_result"
    }
   ],
   "source": [
    "device_cluster_long_ref.head()"
   ]
  },
  {
   "cell_type": "markdown",
   "metadata": {},
   "source": [
    "## compute cluster size and merge it with above table "
   ]
  },
  {
   "cell_type": "code",
   "execution_count": 38,
   "metadata": {},
   "outputs": [],
   "source": [
    "unique_elements, counts_elements = np.unique(cluster_agg, return_counts=True)\n",
    "cluster_size=pd.DataFrame([unique_elements, counts_elements]).T.rename(columns={0:'Cluster_ID',1:'cluster_size'})\n",
    "\n",
    "final=device_cluster_long_ref.merge(cluster_size, left_on='Cluster_ID', right_on='Cluster_ID', how='left')"
   ]
  },
  {
   "cell_type": "markdown",
   "metadata": {},
   "source": [
    "## format data for output"
   ]
  },
  {
   "cell_type": "code",
   "execution_count": 39,
   "metadata": {},
   "outputs": [],
   "source": [
    "final_sorted=final.sort_values(by=['cluster_size'], ascending=False)"
   ]
  },
  {
   "cell_type": "code",
   "execution_count": 40,
   "metadata": {},
   "outputs": [],
   "source": [
    "final_sorted.to_csv('resultHCdiab_sub_loc_All_features1214.csv')"
   ]
  },
  {
   "cell_type": "code",
   "execution_count": null,
   "metadata": {},
   "outputs": [],
   "source": []
  }
 ],
 "metadata": {
  "kernelspec": {
   "display_name": "conda_python3",
   "language": "python",
   "name": "conda_python3"
  },
  "language_info": {
   "codemirror_mode": {
    "name": "ipython",
    "version": 3
   },
   "file_extension": ".py",
   "mimetype": "text/x-python",
   "name": "python",
   "nbconvert_exporter": "python",
   "pygments_lexer": "ipython3",
   "version": "3.6.5"
  }
 },
 "nbformat": 4,
 "nbformat_minor": 2
}
